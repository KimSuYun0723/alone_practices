{
 "cells": [
  {
   "cell_type": "code",
   "execution_count": null,
   "metadata": {},
   "outputs": [],
   "source": []
  },
  {
   "cell_type": "markdown",
   "metadata": {},
   "source": [
    "# Encoder 출력(hs) -> 가중치(a) -> 가중합"
   ]
  },
  {
   "cell_type": "code",
   "execution_count": null,
   "metadata": {},
   "outputs": [],
   "source": [
    "import numpy as np\n",
    "\n",
    "T,H = 5,4\n",
    "hs = np.random.randn(T, H)\n",
    "a = np.array([0.8,0.1,0.03,0.05,0.02])\n",
    "\n",
    "ar = a.reshape(5,1).repeat(4,axis=1)\n",
    "print(ar.shape)\n",
    "# (5,4)\n",
    "\"\"\"\n",
    "구현 효율만 생각하면 repeat() 보다는 넘파이의 브로드캐스트 이용.\n",
    "하지만 다차원 배열의 원소가 복사(반복)되고 있다는 점이\n",
    "우리의 눈에는 보이지 않으니 주의해야함.\n",
    "이 작업은 계산그래프 상으로는 Repeat 노드에 해당\n",
    "\n",
    "따라서 역전파 때는 repeat 노드의 역전파를 수행해야함.\n",
    "\"\"\"\n",
    "\n",
    "t = hs*ar\n",
    "print(t.shape)\n",
    "# (5,4) -> 여기서 0번째 축을 사라지게 하니까 \n",
    "\n",
    "c = np.sum(t, axis=0)\n",
    "print(c.shape)\n",
    "# (4,) -> 이렇게 나온 것\n",
    "\n",
    "\"\"\"\n",
    "x의 형상이 (X,Y,Z)일때\n",
    "np.sum(x,axis=1)을 실행하면\n",
    "출력 형상은 (X,Z)\n",
    "= 1번쨰 축이 사라진다\n",
    "\"\"\""
   ]
  },
  {
   "cell_type": "markdown",
   "metadata": {},
   "source": [
    "### 미니배치 처리용 가중합"
   ]
  },
  {
   "cell_type": "code",
   "execution_count": null,
   "metadata": {},
   "outputs": [],
   "source": [
    "N, T, H = 10, 5, 4\n",
    "hs = np.random.randn(N,T,H)\n",
    "a = np.random.randn(N,T)\n",
    "ar = a.shape(N,T,1).repeat(H, axis=2) #\n",
    "# ar = a.shape(N,T,1) : broadcast\n",
    "\n",
    "t = hs * ar\n",
    "print(t.shape)\n",
    "\n",
    "c = np.sum(t, axis=1) #\n",
    "print(c.shape)\n",
    "\n",
    "\"\"\"\n",
    "미니배치 구현은 이전과 거의 같습니다. \n",
    "배열의 형상을 잘 살펴보면 repeat()와 sum()에서\n",
    "어느 차원(축)을 지정해야하는지 곧 알 수 있을 것입니다.\n",
    "\"\"\""
   ]
  },
  {
   "cell_type": "markdown",
   "metadata": {},
   "source": [
    "# Weight Sum 계층\n",
    ": 맥락 벡터(c)를 구하는 계층"
   ]
  },
  {
   "cell_type": "code",
   "execution_count": null,
   "metadata": {},
   "outputs": [],
   "source": [
    "class WeightSum:\n",
    "    def __init__(self):\n",
    "        self.params, self.grads = [], [] # 학습하는 매개변수 없으므로 params 비워두기\n",
    "        self.cache = None\n",
    "\n",
    "    def forward(self, hs, a):\n",
    "        N, T, H = hs.shape\n",
    "\n",
    "        ar = a.reshape(N,T,1).repeat(H, axis = 2)\n",
    "        t = hs*ar\n",
    "        c = np.sum(t, axis=1)\n",
    "\n",
    "        self.cache = (hs, ar)\n",
    "        return c\n",
    "    \n",
    "    def backward(self, dc):\n",
    "        hs, ar = self.cache\n",
    "        N, T, H = hs.shape\n",
    "\n",
    "        dt = dc.reshape(N,1,H).repeat(T,axis=1) # sum의 역전파\n",
    "        dar = dt * hs\n",
    "        dhs = dt * ar\n",
    "        da = np.sum(dar, axis=2) #repeat의 역전파\n",
    "\n",
    "        return dhs, da"
   ]
  },
  {
   "cell_type": "code",
   "execution_count": null,
   "metadata": {},
   "outputs": [],
   "source": []
  }
 ],
 "metadata": {
  "language_info": {
   "name": "python"
  }
 },
 "nbformat": 4,
 "nbformat_minor": 2
}
