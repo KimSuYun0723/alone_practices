{
 "cells": [
  {
   "cell_type": "code",
   "execution_count": 2,
   "metadata": {},
   "outputs": [
    {
     "name": "stdout",
     "output_type": "stream",
     "text": [
      "4.22.0\n"
     ]
    }
   ],
   "source": [
    "# selenium으로 키를 조작하기 위한 import\n",
    "import selenium\n",
    "print(selenium.__version__)\n",
    "from selenium import webdriver\n",
    "from selenium.webdriver.common.by import By\n",
    "from selenium.common.exceptions import NoSuchElementException, TimeoutException, ElementClickInterceptedException, StaleElementReferenceException\n",
    "from selenium.webdriver.support.ui import WebDriverWait\n",
    "from selenium.webdriver.support import expected_conditions as EC\n",
    "\n",
    "# ETC\n",
    "import time # to wait not to seem as \"bot\"\n",
    "import csv"
   ]
  },
  {
   "cell_type": "markdown",
   "metadata": {},
   "source": [
    "# 3. 대통령실"
   ]
  },
  {
   "cell_type": "code",
   "execution_count": 20,
   "metadata": {},
   "outputs": [],
   "source": [
    "def crawl_speech():\n",
    "    global idx\n",
    "    global speech_data\n",
    "    global driver\n",
    "    try:\n",
    "        o_title = WebDriverWait(driver, 10).until(\n",
    "            EC.presence_of_element_located((By.XPATH, '//*[@id=\"contents\"]/article/div[2]/div/dl/dt/div[1]/p')))\n",
    "        print(\"title\")\n",
    "        o_subtitle = driver.find_element(By.XPATH, '//*[@id=\"contents\"]/article/div[2]/div/dl/dd/div/div[2]/p')\n",
    "        print(\"sub\")\n",
    "        o_date = driver.find_element(By.XPATH, '//*[@id=\"contents\"]/article/div[2]/div/dl/dt/div[2]/span')\n",
    "        print(\"date\")\n",
    "        o_speech = driver.find_element(By.XPATH, '//*[@id=\"contents\"]/article/div[2]/div/dl/dd/div/div[2]')\n",
    "        \n",
    "        driver.execute_script(\"arguments[0].scrollIntoView();\", o_speech) # scroll\n",
    "        print(\"speech\")\n",
    "\n",
    "        title = o_title.text\n",
    "        subtitle = o_subtitle.text\n",
    "        date = o_date.text\n",
    "        speech = o_speech.text\n",
    "        speaker = \"윤석열\"\n",
    "\n",
    "        d = {\"index\": idx, \"title\": title, \"subtitle\": subtitle, \"date\": date, \"speaker\": speaker, \"speech\": speech}\n",
    "        speech_data.append(d)\n",
    "        print(f\"{idx}. {title}\")\n",
    "        idx += 1\n",
    "    except NoSuchElementException as e:\n",
    "        print(f\"An element was not found: {e}\")\n",
    "    except TimeoutException as e:\n",
    "        print(f\"An element load timed out: {e}\")"
   ]
  },
  {
   "cell_type": "code",
   "execution_count": 21,
   "metadata": {},
   "outputs": [],
   "source": [
    "# Helper function to click page button\n",
    "def click_page_button(page_num):\n",
    "    rest = page_num%5\n",
    "    if rest== 0:\n",
    "        num = 5\n",
    "    else:\n",
    "        num = rest\n",
    "    try:\n",
    "        page_button = WebDriverWait(driver, 10).until( # Waiting 10sec maximum\n",
    "            EC.element_to_be_clickable((By.XPATH, f'//*[@id=\"contents\"]/article/div/div[2]/ul/li[{num}]/button')))\n",
    "        driver.execute_script(\"arguments[0].scrollIntoView();\", page_button) # scroll\n",
    "        time.sleep(1)\n",
    "        driver.execute_script(\"arguments[0].click();\", page_button)  # Click with JavaScript\n",
    "        time.sleep(1)\n",
    "    except TimeoutException:\n",
    "        print(f\"Page button {page_num} not found\")\n",
    "        raise  # if TimeoutException : throw Exception & quit"
   ]
  },
  {
   "cell_type": "code",
   "execution_count": 22,
   "metadata": {},
   "outputs": [],
   "source": [
    "# Helper function to click page button\n",
    "def click_section_button():\n",
    "    try:\n",
    "        section_button = WebDriverWait(driver, 10).until( # Waiting 10sec maximum\n",
    "            EC.element_to_be_clickable((By.XPATH, f'//*[@id=\"contents\"]/article/div/div[2]/button[3]')))\n",
    "        driver.execute_script(\"arguments[0].scrollIntoView();\", section_button) # scroll\n",
    "        time.sleep(1)\n",
    "        driver.execute_script(\"arguments[0].click();\", section_button)  # Click with JavaScript\n",
    "    except TimeoutException:\n",
    "        print(f\"Section button not found\")\n",
    "        raise  # if TimeoutException : throw Exception & quit"
   ]
  },
  {
   "cell_type": "code",
   "execution_count": 23,
   "metadata": {},
   "outputs": [
    {
     "name": "stdout",
     "output_type": "stream",
     "text": [
      "title\n",
      "sub\n",
      "date\n",
      "speech\n",
      "445. 2023년 연두 업무보고(보건복지부·고용노동부·여성가족부·식품의약품안전처·질병관리청) 모두 발언\n",
      "title\n",
      "sub\n",
      "date\n",
      "speech\n",
      "446. 2023년 연두 업무보고(교육부·문화체육관광부) 모두 발언\n",
      "title\n",
      "sub\n",
      "date\n",
      "speech\n",
      "447. 2023년 연두 업무보고(농림축산식품부·해양수산부) 모두 발언\n",
      "title\n",
      "sub\n",
      "date\n",
      "speech\n",
      "448. 2023년 연두 업무보고(국토교통부·환경부) 모두 발언\n",
      "title\n",
      "sub\n",
      "date\n",
      "speech\n",
      "449. 2023년도 제1회 국무회의 모두 발언\n",
      "title\n",
      "sub\n",
      "date\n",
      "speech\n",
      "450. 2023년 경제계 신년인사회 격려사\n",
      "title\n",
      "sub\n",
      "date\n",
      "speech\n",
      "451. 2023년 신년인사회 모두 발언\n",
      "title\n",
      "sub\n",
      "date\n",
      "speech\n",
      "452. 2023년 윤석열 대통령 신년사\n"
     ]
    },
    {
     "ename": "KeyboardInterrupt",
     "evalue": "",
     "output_type": "error",
     "traceback": [
      "\u001b[1;31m---------------------------------------------------------------------------\u001b[0m",
      "\u001b[1;31mKeyboardInterrupt\u001b[0m                         Traceback (most recent call last)",
      "Cell \u001b[1;32mIn[23], line 23\u001b[0m\n\u001b[0;32m     21\u001b[0m     crawl_speech()\n\u001b[0;32m     22\u001b[0m     driver\u001b[38;5;241m.\u001b[39mback()\n\u001b[1;32m---> 23\u001b[0m     time\u001b[38;5;241m.\u001b[39msleep(\u001b[38;5;241m2\u001b[39m)\n\u001b[0;32m     24\u001b[0m \u001b[38;5;28;01mexcept\u001b[39;00m \u001b[38;5;167;01mException\u001b[39;00m \u001b[38;5;28;01mas\u001b[39;00m e:\n\u001b[0;32m     25\u001b[0m     \u001b[38;5;28mprint\u001b[39m(\u001b[38;5;124mf\u001b[39m\u001b[38;5;124m\"\u001b[39m\u001b[38;5;124mAn Error Occured: \u001b[39m\u001b[38;5;132;01m{\u001b[39;00m\u001b[38;5;28mstr\u001b[39m(e)\u001b[38;5;132;01m}\u001b[39;00m\u001b[38;5;124m\"\u001b[39m)\n",
      "\u001b[1;31mKeyboardInterrupt\u001b[0m: "
     ]
    },
    {
     "ename": "",
     "evalue": "",
     "output_type": "error",
     "traceback": [
      "\u001b[1;31mThe Kernel crashed while executing code in the current cell or a previous cell. \n",
      "\u001b[1;31mPlease review the code in the cell(s) to identify a possible cause of the failure. \n",
      "\u001b[1;31mClick <a href='https://aka.ms/vscodeJupyterKernelCrash'>here</a> for more info. \n",
      "\u001b[1;31mView Jupyter <a href='command:jupyter.viewOutput'>log</a> for further details."
     ]
    }
   ],
   "source": [
    "speech_data = []\n",
    "idx = 445\n",
    "\n",
    "# WebDriver Reset\n",
    "driver = webdriver.Chrome()\n",
    "driver.get('https://www.president.go.kr/president/speeches')\n",
    "time.sleep(2)\n",
    "\n",
    "for _ in range(18):\n",
    "  click_section_button()\n",
    "  time.sleep(1)\n",
    "\n",
    "for page_num in range(91,101):\n",
    "    click_page_button(page_num)\n",
    "    for title_num in range(1, 6):  # 예제에서는 첫 번째 페이지의 두 개 연설을 크롤링\n",
    "        try:\n",
    "            rest_click = WebDriverWait(driver, 10).until(\n",
    "                EC.element_to_be_clickable((By.XPATH, f'//*[@id=\"contents\"]/article/div/div[1]/ul/li[{title_num}]/div/a/p[1]')))\n",
    "            driver.execute_script(\"arguments[0].click();\", rest_click)\n",
    "            time.sleep(2)\n",
    "            crawl_speech()\n",
    "            driver.back()\n",
    "            time.sleep(2)\n",
    "        except Exception as e:\n",
    "            print(f\"An Error Occured: {str(e)}\")\n",
    "            break\n",
    "    if page_num%5 ==0:\n",
    "        click_section_button()\n",
    "driver.quit()\n",
    "\n",
    "print(\"크롤링 완료!\")"
   ]
  },
  {
   "cell_type": "code",
   "execution_count": null,
   "metadata": {},
   "outputs": [],
   "source": []
  }
 ],
 "metadata": {
  "kernelspec": {
   "display_name": "base",
   "language": "python",
   "name": "python3"
  },
  "language_info": {
   "codemirror_mode": {
    "name": "ipython",
    "version": 3
   },
   "file_extension": ".py",
   "mimetype": "text/x-python",
   "name": "python",
   "nbconvert_exporter": "python",
   "pygments_lexer": "ipython3",
   "version": "3.11.7"
  }
 },
 "nbformat": 4,
 "nbformat_minor": 2
}
