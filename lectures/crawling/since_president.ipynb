{
 "cells": [
  {
   "cell_type": "code",
   "execution_count": 1,
   "metadata": {},
   "outputs": [
    {
     "name": "stdout",
     "output_type": "stream",
     "text": [
      "4.22.0\n"
     ]
    }
   ],
   "source": [
    "# selenium으로 키를 조작하기 위한 import\n",
    "import selenium\n",
    "print(selenium.__version__)\n",
    "from selenium import webdriver\n",
    "from selenium.webdriver.common.by import By\n",
    "from selenium.common.exceptions import NoSuchElementException, TimeoutException, ElementClickInterceptedException, StaleElementReferenceException\n",
    "from selenium.webdriver.support.ui import WebDriverWait\n",
    "from selenium.webdriver.support import expected_conditions as EC\n",
    "\n",
    "# ETC\n",
    "import time # to wait not to seem as \"bot\"\n",
    "import csv"
   ]
  },
  {
   "cell_type": "markdown",
   "metadata": {},
   "source": [
    "# 3. 역대 대통령 데이터\n",
    "https://www.pa.go.kr/research/contents/speech/index.jsp"
   ]
  },
  {
   "cell_type": "markdown",
   "metadata": {},
   "source": [
    "### 대통령별 체크박스 Xpath"
   ]
  },
  {
   "cell_type": "code",
   "execution_count": 2,
   "metadata": {},
   "outputs": [],
   "source": [
    "# 전체 : //*[@id=\"prstNm0\"]\n",
    "# 이승만 : //*[@id=\"prstNm1\"]\n",
    "# 윤보선 : //*[@id=\"prstNm2\"]\n",
    "# 박정희 : //*[@id=\"prstNm3\"]\n",
    "# 최규하 : //*[@id=\"prstNm4\"]\n",
    "# 전두환 : //*[@id=\"prstNm5\"]\n",
    "# 노태우 : //*[@id=\"prstNm6\"]\n",
    "# 김영삼 : //*[@id=\"prstNm7\"]\n",
    "# 김대중 : //*[@id=\"prstNm8\"]\n",
    "# 노무현 : //*[@id=\"prstNm9\"]\n",
    "# 이명박 : //*[@id=\"prstNm10\"]\n",
    "# 박근혜 : //*[@id=\"prstNm11\"]\n",
    "# 문재인 : //*[@id=\"prstNm12\"]"
   ]
  },
  {
   "cell_type": "code",
   "execution_count": 14,
   "metadata": {},
   "outputs": [],
   "source": [
    "# search speech data of specific president\n",
    "def search(president):\n",
    "    global driver\n",
    "    name_d = {\"전체\":0, \"이승만\":1, \"윤보선\":2, \"박정희\":3, \"최규하\":4, \"전두환\":5, \n",
    "              \"노태우\":6, \"김영삼\":7, \"김대중\":8, \"노무현\":9, \"이명박\":10, \"박근혜\":11, \n",
    "              \"문재인\":12}\n",
    "    presid_num = name_d[f\"{president}\"]\n",
    "\n",
    "    checkbox = driver.find_element(By.XPATH, f'//*[@id=\"prstNm{presid_num}\"]')\n",
    "    search = driver.find_element(By.XPATH, '//*[@id=\"frm\"]/fieldset[1]/div[2]/div[5]/button[2]')\n",
    "    checkbox.click()\n",
    "    time.sleep(1)\n",
    "    search.click()\n",
    "    time.sleep(1)\n",
    "    doc_button = driver.find_element(By.XPATH, '//*[@id=\"m-items2\"]/li[2]/a')\n",
    "    doc_button.click()"
   ]
  },
  {
   "cell_type": "code",
   "execution_count": 15,
   "metadata": {},
   "outputs": [],
   "source": [
    "# Helper function to click page button\n",
    "def click_section_button():\n",
    "    global driver\n",
    "    try:\n",
    "        page_button = WebDriverWait(driver, 10).until( # Waiting 10sec maximum\n",
    "            EC.element_to_be_clickable((By.XPATH, f'//*[@id=\"frm\"]/nav[2]/ul/li[13]/a')))\n",
    "        driver.execute_script(\"arguments[0].scrollIntoView();\", page_button) # scroll\n",
    "        time.sleep(2)\n",
    "        driver.execute_script(\"arguments[0].click();\", page_button)  # Click with JavaScript\n",
    "        time.sleep(2)\n",
    "    except TimeoutException:\n",
    "        print(f\"Section button not found\")\n",
    "        raise  # if TimeoutException : throw Exception & quit"
   ]
  },
  {
   "cell_type": "code",
   "execution_count": 16,
   "metadata": {},
   "outputs": [],
   "source": [
    "# Helper function to click page button\n",
    "def click_page_button(page_num):\n",
    "    global driver\n",
    "    try:\n",
    "        if page_num == 1:\n",
    "            page_button = WebDriverWait(driver, 10).until( # Waiting 10sec maximum\n",
    "                EC.element_to_be_clickable((By.XPATH, f'//*[@id=\"frm\"]/nav[2]/ul/li[{page_num+2}]/strong')))\n",
    "        else:\n",
    "            page_button = WebDriverWait(driver, 10).until( # Waiting 10sec maximum\n",
    "                EC.element_to_be_clickable((By.XPATH, f'//*[@id=\"frm\"]/nav[2]/ul/li[{page_num+2}]/a')))\n",
    "        driver.execute_script(\"arguments[0].scrollIntoView();\", page_button) # scroll\n",
    "        time.sleep(1)\n",
    "        driver.execute_script(\"arguments[0].click();\", page_button)  # Click with JavaScript\n",
    "    except TimeoutException:\n",
    "        print(f\"Page button {page_num} not found\")\n",
    "        raise  # if TimeoutException : throw Exception & quit"
   ]
  },
  {
   "cell_type": "code",
   "execution_count": 17,
   "metadata": {},
   "outputs": [
    {
     "name": "stdout",
     "output_type": "stream",
     "text": [
      "1. 제19대 대통령 취임식\n",
      "2. 비정규직 근로자와의 대화\n",
      "3. 미세먼지 바로알기 교실 현장 방문\n",
      "4. 국방부 순시\n",
      "5. 합동참모본부 순시\n",
      "6. 제37주년 5·18민주화운동 기념식\n",
      "7. 노무현 대통령 서거 8주기 추도식\n",
      "8. 수석·보좌관회의\n",
      "9. 수석·보좌관회의\n",
      "10. 제22회 바다의 날 기념식\n",
      "11. 수석·보좌관회의\n",
      "12. OECD 국제교통포럼(ITF) 사무총장 당선 축전\n",
      "13. 치매국가책임제 SNS 메시지\n",
      "14. 치매국가책임제 관련 현장 방문\n",
      "15. 제62회 현충일 추념식\n",
      "16. 용산소방서 방문 후 SNS 메시지\n",
      "17. 현장 소방대원들과의 대화\n",
      "18. 국가안전보장회의(NSC)\n",
      "19. 제30주년 6·10민주항쟁 기념식\n",
      "20. 2017년도 추가경정예산안 관련 국회 시정 연설\n",
      "21. 한미연합사령부 순시\n",
      "22. 제19회 미주한인체전 축전\n",
      "23. 제1회 전국 시·도지사 간담회\n",
      "24. 6·15남북공동선언 17주년 기념식\n",
      "25. 수석·보좌관회의\n",
      "26. 아시아인프라투자은행(AIIB) 연차총회 개회식\n",
      "27. 원자력발전소 고리1호기 영구 정지 선포식\n"
     ]
    },
    {
     "ename": "KeyboardInterrupt",
     "evalue": "",
     "output_type": "error",
     "traceback": [
      "\u001b[1;31m---------------------------------------------------------------------------\u001b[0m",
      "\u001b[1;31mKeyboardInterrupt\u001b[0m                         Traceback (most recent call last)",
      "Cell \u001b[1;32mIn[17], line 21\u001b[0m\n\u001b[0;32m     18\u001b[0m clik \u001b[38;5;241m=\u001b[39m WebDriverWait(driver, \u001b[38;5;241m10\u001b[39m)\u001b[38;5;241m.\u001b[39muntil(\n\u001b[0;32m     19\u001b[0m     EC\u001b[38;5;241m.\u001b[39mpresence_of_element_located((By\u001b[38;5;241m.\u001b[39mXPATH, \u001b[38;5;124mf\u001b[39m\u001b[38;5;124m'\u001b[39m\u001b[38;5;124m//*[@id=\u001b[39m\u001b[38;5;124m\"\u001b[39m\u001b[38;5;124mM_More\u001b[39m\u001b[38;5;124m\"\u001b[39m\u001b[38;5;124m]/tr[\u001b[39m\u001b[38;5;132;01m{\u001b[39;00mtitle_num\u001b[38;5;132;01m}\u001b[39;00m\u001b[38;5;124m]/td[5]/a\u001b[39m\u001b[38;5;124m'\u001b[39m)))\n\u001b[0;32m     20\u001b[0m driver\u001b[38;5;241m.\u001b[39mexecute_script(\u001b[38;5;124m\"\u001b[39m\u001b[38;5;124marguments[0].scrollIntoView();\u001b[39m\u001b[38;5;124m\"\u001b[39m, clik) \u001b[38;5;66;03m# scroll\u001b[39;00m\n\u001b[1;32m---> 21\u001b[0m time\u001b[38;5;241m.\u001b[39msleep(\u001b[38;5;241m1\u001b[39m)\n\u001b[0;32m     22\u001b[0m driver\u001b[38;5;241m.\u001b[39mexecute_script(\u001b[38;5;124m\"\u001b[39m\u001b[38;5;124marguments[0].click();\u001b[39m\u001b[38;5;124m\"\u001b[39m, clik)  \u001b[38;5;66;03m# Click with JavaScript\u001b[39;00m\n\u001b[0;32m     24\u001b[0m o_title \u001b[38;5;241m=\u001b[39m driver\u001b[38;5;241m.\u001b[39mfind_element(By\u001b[38;5;241m.\u001b[39mXPATH, \u001b[38;5;124m'\u001b[39m\u001b[38;5;124m//*[@id=\u001b[39m\u001b[38;5;124m\"\u001b[39m\u001b[38;5;124mcontent\u001b[39m\u001b[38;5;124m\"\u001b[39m\u001b[38;5;124m]/div/table/tbody/tr[1]/td\u001b[39m\u001b[38;5;124m'\u001b[39m)\n",
      "\u001b[1;31mKeyboardInterrupt\u001b[0m: "
     ]
    }
   ],
   "source": [
    "# 10개 페이지들\n",
    "\n",
    "driver = webdriver.Chrome()\n",
    "driver.get('https://www.pa.go.kr/research/contents/speech/index.jsp')\n",
    "time.sleep(2)\n",
    "\n",
    "speech_data = []\n",
    "idx = 1\n",
    "president = \"문재인\"\n",
    "#str(input(\"President's name you want : \"))\n",
    "search(president)\n",
    "\n",
    "for page_num in range(1, 11):\n",
    "    click_page_button(page_num)\n",
    "    try:\n",
    "        for title_num in range(1, 21):\n",
    "            try:\n",
    "                clik = WebDriverWait(driver, 10).until(\n",
    "                    EC.presence_of_element_located((By.XPATH, f'//*[@id=\"M_More\"]/tr[{title_num}]/td[5]/a')))\n",
    "                driver.execute_script(\"arguments[0].scrollIntoView();\", clik) # scroll\n",
    "                time.sleep(1)\n",
    "                driver.execute_script(\"arguments[0].click();\", clik)  # Click with JavaScript\n",
    "\n",
    "                o_title = driver.find_element(By.XPATH, '//*[@id=\"content\"]/div/table/tbody/tr[1]/td')\n",
    "                o_type = driver.find_element(By.XPATH, '//*[@id=\"content\"]/div/table/tbody/tr[3]/td[1]')\n",
    "                o_date = driver.find_element(By.XPATH, '//*[@id=\"content\"]/div/table/tbody/tr[2]/td[1]')\n",
    "                o_speech = driver.find_element(By.XPATH, '//*[@id=\"content\"]/div/table/tbody/tr[4]/td')\n",
    "\n",
    "                title = o_title.text\n",
    "                type = o_type.text\n",
    "                date = o_date.text\n",
    "                speech = o_speech.text\n",
    "                speaker = president\n",
    "\n",
    "                d = {\"index\": idx, \"title\": title, \"type\": type, \"date\": date, \"speaker\": president, \"speech\": speech}\n",
    "                speech_data.append(d)\n",
    "                print(f\"{idx}. {title}\")\n",
    "                idx += 1\n",
    "\n",
    "                driver.back()\n",
    "            except Exception as e:\n",
    "                print(f\"ERROR OCCURED {str(e)}\")\n",
    "    except Exception as e:\n",
    "        print(f\"ERROR OCCURED {str(e)}\")\n",
    "driver.quit()"
   ]
  },
  {
   "cell_type": "code",
   "execution_count": 12,
   "metadata": {},
   "outputs": [
    {
     "name": "stdout",
     "output_type": "stream",
     "text": [
      "ERROR OCCURED 'WebElement' object has no attribute 'textS'\n",
      "Page button 2 not found\n"
     ]
    },
    {
     "ename": "TimeoutException",
     "evalue": "Message: \nStacktrace:\n\tGetHandleVerifier [0x00007FF7A2F2EEA2+31554]\n\t(No symbol) [0x00007FF7A2EA7ED9]\n\t(No symbol) [0x00007FF7A2D6872A]\n\t(No symbol) [0x00007FF7A2DB8434]\n\t(No symbol) [0x00007FF7A2DB853C]\n\t(No symbol) [0x00007FF7A2DFF6A7]\n\t(No symbol) [0x00007FF7A2DDD06F]\n\t(No symbol) [0x00007FF7A2DFC977]\n\t(No symbol) [0x00007FF7A2DDCDD3]\n\t(No symbol) [0x00007FF7A2DAA33B]\n\t(No symbol) [0x00007FF7A2DAAED1]\n\tGetHandleVerifier [0x00007FF7A3238B1D+3217341]\n\tGetHandleVerifier [0x00007FF7A3285AE3+3532675]\n\tGetHandleVerifier [0x00007FF7A327B0E0+3489152]\n\tGetHandleVerifier [0x00007FF7A2FDE776+750614]\n\t(No symbol) [0x00007FF7A2EB375F]\n\t(No symbol) [0x00007FF7A2EAEB14]\n\t(No symbol) [0x00007FF7A2EAECA2]\n\t(No symbol) [0x00007FF7A2E9E16F]\n\tBaseThreadInitThunk [0x00007FFAFFC9257D+29]\n\tRtlUserThreadStart [0x00007FFB008CAF28+40]\n",
     "output_type": "error",
     "traceback": [
      "\u001b[1;31m---------------------------------------------------------------------------\u001b[0m",
      "\u001b[1;31mTimeoutException\u001b[0m                          Traceback (most recent call last)",
      "Cell \u001b[1;32mIn[12], line 14\u001b[0m\n\u001b[0;32m     12\u001b[0m \u001b[38;5;66;03m#click_section_button()\u001b[39;00m\n\u001b[0;32m     13\u001b[0m \u001b[38;5;28;01mfor\u001b[39;00m page_num \u001b[38;5;129;01min\u001b[39;00m \u001b[38;5;28mrange\u001b[39m(\u001b[38;5;241m1\u001b[39m, \u001b[38;5;241m70\u001b[39m):\n\u001b[1;32m---> 14\u001b[0m     click_page_button(page_num)\n\u001b[0;32m     15\u001b[0m     \u001b[38;5;28;01mif\u001b[39;00m page_num \u001b[38;5;241m%\u001b[39m \u001b[38;5;241m10\u001b[39m \u001b[38;5;241m==\u001b[39m\u001b[38;5;241m0\u001b[39m :\n\u001b[0;32m     16\u001b[0m         click_section_button(page_num)\n",
      "Cell \u001b[1;32mIn[10], line 9\u001b[0m, in \u001b[0;36mclick_page_button\u001b[1;34m(page_num)\u001b[0m\n\u001b[0;32m      6\u001b[0m     page_button \u001b[38;5;241m=\u001b[39m WebDriverWait(driver, \u001b[38;5;241m10\u001b[39m)\u001b[38;5;241m.\u001b[39muntil( \u001b[38;5;66;03m# Waiting 10sec maximum\u001b[39;00m\n\u001b[0;32m      7\u001b[0m         EC\u001b[38;5;241m.\u001b[39melement_to_be_clickable((By\u001b[38;5;241m.\u001b[39mXPATH, \u001b[38;5;124mf\u001b[39m\u001b[38;5;124m'\u001b[39m\u001b[38;5;124m//*[@id=\u001b[39m\u001b[38;5;124m\"\u001b[39m\u001b[38;5;124mfrm\u001b[39m\u001b[38;5;124m\"\u001b[39m\u001b[38;5;124m]/nav[2]/ul/li[\u001b[39m\u001b[38;5;132;01m{\u001b[39;00mpage_num\u001b[38;5;241m+\u001b[39m\u001b[38;5;241m2\u001b[39m\u001b[38;5;132;01m}\u001b[39;00m\u001b[38;5;124m]/strong\u001b[39m\u001b[38;5;124m'\u001b[39m)))\n\u001b[0;32m      8\u001b[0m \u001b[38;5;28;01melse\u001b[39;00m:\n\u001b[1;32m----> 9\u001b[0m     page_button \u001b[38;5;241m=\u001b[39m WebDriverWait(driver, \u001b[38;5;241m10\u001b[39m)\u001b[38;5;241m.\u001b[39muntil( \u001b[38;5;66;03m# Waiting 10sec maximum\u001b[39;00m\n\u001b[0;32m     10\u001b[0m         EC\u001b[38;5;241m.\u001b[39melement_to_be_clickable((By\u001b[38;5;241m.\u001b[39mXPATH, \u001b[38;5;124mf\u001b[39m\u001b[38;5;124m'\u001b[39m\u001b[38;5;124m//*[@id=\u001b[39m\u001b[38;5;124m\"\u001b[39m\u001b[38;5;124mfrm\u001b[39m\u001b[38;5;124m\"\u001b[39m\u001b[38;5;124m]/nav[2]/ul/li[\u001b[39m\u001b[38;5;132;01m{\u001b[39;00mpage_num\u001b[38;5;241m+\u001b[39m\u001b[38;5;241m2\u001b[39m\u001b[38;5;132;01m}\u001b[39;00m\u001b[38;5;124m]/a\u001b[39m\u001b[38;5;124m'\u001b[39m)))\n\u001b[0;32m     12\u001b[0m driver\u001b[38;5;241m.\u001b[39mexecute_script(\u001b[38;5;124m\"\u001b[39m\u001b[38;5;124marguments[0].scrollIntoView();\u001b[39m\u001b[38;5;124m\"\u001b[39m, page_button) \u001b[38;5;66;03m# scroll\u001b[39;00m\n\u001b[0;32m     13\u001b[0m time\u001b[38;5;241m.\u001b[39msleep(\u001b[38;5;241m1\u001b[39m)\n",
      "File \u001b[1;32mc:\\Users\\jenny\\anaconda3\\Lib\\site-packages\\selenium\\webdriver\\support\\wait.py:105\u001b[0m, in \u001b[0;36mWebDriverWait.until\u001b[1;34m(self, method, message)\u001b[0m\n\u001b[0;32m    103\u001b[0m     \u001b[38;5;28;01mif\u001b[39;00m time\u001b[38;5;241m.\u001b[39mmonotonic() \u001b[38;5;241m>\u001b[39m end_time:\n\u001b[0;32m    104\u001b[0m         \u001b[38;5;28;01mbreak\u001b[39;00m\n\u001b[1;32m--> 105\u001b[0m \u001b[38;5;28;01mraise\u001b[39;00m TimeoutException(message, screen, stacktrace)\n",
      "\u001b[1;31mTimeoutException\u001b[0m: Message: \nStacktrace:\n\tGetHandleVerifier [0x00007FF7A2F2EEA2+31554]\n\t(No symbol) [0x00007FF7A2EA7ED9]\n\t(No symbol) [0x00007FF7A2D6872A]\n\t(No symbol) [0x00007FF7A2DB8434]\n\t(No symbol) [0x00007FF7A2DB853C]\n\t(No symbol) [0x00007FF7A2DFF6A7]\n\t(No symbol) [0x00007FF7A2DDD06F]\n\t(No symbol) [0x00007FF7A2DFC977]\n\t(No symbol) [0x00007FF7A2DDCDD3]\n\t(No symbol) [0x00007FF7A2DAA33B]\n\t(No symbol) [0x00007FF7A2DAAED1]\n\tGetHandleVerifier [0x00007FF7A3238B1D+3217341]\n\tGetHandleVerifier [0x00007FF7A3285AE3+3532675]\n\tGetHandleVerifier [0x00007FF7A327B0E0+3489152]\n\tGetHandleVerifier [0x00007FF7A2FDE776+750614]\n\t(No symbol) [0x00007FF7A2EB375F]\n\t(No symbol) [0x00007FF7A2EAEB14]\n\t(No symbol) [0x00007FF7A2EAECA2]\n\t(No symbol) [0x00007FF7A2E9E16F]\n\tBaseThreadInitThunk [0x00007FFAFFC9257D+29]\n\tRtlUserThreadStart [0x00007FFB008CAF28+40]\n"
     ]
    }
   ],
   "source": [
    "# 10개 페이지들 --> 넘겨서 반복\n",
    "driver = webdriver.Chrome()\n",
    "driver.get('https://www.pa.go.kr/research/contents/speech/index.jsp')\n",
    "time.sleep(2)\n",
    "\n",
    "speech_data = []\n",
    "idx = 1\n",
    "president = \"문재인\"\n",
    "#str(input(\"President's name you want : \"))\n",
    "search(president)\n",
    "\n",
    "#click_section_button()\n",
    "for page_num in range(1, 70):\n",
    "    click_page_button(page_num)\n",
    "    if page_num % 10 ==0 :\n",
    "        click_section_button(page_num)\n",
    "    \n",
    "    for title_num in range(1, 21):\n",
    "        try:\n",
    "            clik = WebDriverWait(driver, 10).until(\n",
    "                EC.presence_of_element_located((By.XPATH, f'//*[@id=\"M_More\"]/tr[{title_num}]/td[5]/a')))\n",
    "            driver.execute_script(\"arguments[0].scrollIntoView();\", clik) # scroll\n",
    "            time.sleep(1)\n",
    "            driver.execute_script(\"arguments[0].click();\", clik)  # Click with JavaScript\n",
    "\n",
    "            o_title = driver.find_element(By.XPATH, '//*[@id=\"content\"]/div/table/tbody/tr[1]/td')\n",
    "            o_type = driver.find_element(By.XPATH, '//*[@id=\"content\"]/div/table/tbody/tr[3]/td[1]')\n",
    "            o_date = driver.find_element(By.XPATH, '//*[@id=\"content\"]/div/table/tbody/tr[2]/td[1]')\n",
    "            o_speech = driver.find_element(By.XPATH, '//*[@id=\"content\"]/div/table/tbody/tr[4]/td')\n",
    "\n",
    "            title = o_title.text\n",
    "            type = o_type.text\n",
    "            date = o_date.text\n",
    "            speech = o_speech.textS\n",
    "            speaker = president\n",
    "\n",
    "            d = {\"index\": idx, \"title\": title, \"type\": type, \"date\": date, \"speaker\": president, \"speech\": speech}\n",
    "            speech_data.append(d)\n",
    "            print(f\"{idx}. {title}\")\n",
    "            idx += 1\n",
    "\n",
    "            driver.back()\n",
    "        except Exception as e:\n",
    "            print(f\"ERROR OCCURED {str(e)}\")\n",
    "            break\n",
    "driver.quit()"
   ]
  },
  {
   "cell_type": "code",
   "execution_count": null,
   "metadata": {},
   "outputs": [],
   "source": []
  }
 ],
 "metadata": {
  "kernelspec": {
   "display_name": "base",
   "language": "python",
   "name": "python3"
  },
  "language_info": {
   "codemirror_mode": {
    "name": "ipython",
    "version": 3
   },
   "file_extension": ".py",
   "mimetype": "text/x-python",
   "name": "python",
   "nbconvert_exporter": "python",
   "pygments_lexer": "ipython3",
   "version": "3.11.7"
  }
 },
 "nbformat": 4,
 "nbformat_minor": 2
}
