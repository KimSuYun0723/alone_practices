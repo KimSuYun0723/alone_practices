{
 "cells": [
  {
   "cell_type": "code",
   "execution_count": 13,
   "metadata": {},
   "outputs": [
    {
     "name": "stdout",
     "output_type": "stream",
     "text": [
      "4.22.0\n"
     ]
    }
   ],
   "source": [
    "# selenium으로 키를 조작하기 위한 import\n",
    "import selenium\n",
    "print(selenium.__version__)\n",
    "from selenium import webdriver\n",
    "from selenium.webdriver.common.by import By\n",
    "from selenium.common.exceptions import NoSuchElementException, TimeoutException, ElementClickInterceptedException, StaleElementReferenceException\n",
    "from selenium.webdriver.support.ui import WebDriverWait\n",
    "from selenium.webdriver.support import expected_conditions as EC\n",
    "\n",
    "# ETC\n",
    "import time # to wait not to seem as \"bot\"\n",
    "import csv"
   ]
  },
  {
   "cell_type": "markdown",
   "metadata": {},
   "source": [
    "# 3. 역대 대통령 데이터\n",
    "https://www.pa.go.kr/research/contents/speech/index.jsp"
   ]
  },
  {
   "cell_type": "markdown",
   "metadata": {},
   "source": [
    "### 대통령별 체크박스 Xpath"
   ]
  },
  {
   "cell_type": "code",
   "execution_count": 14,
   "metadata": {},
   "outputs": [],
   "source": [
    "# 전체 : //*[@id=\"prstNm0\"]\n",
    "# 이승만 : //*[@id=\"prstNm1\"]\n",
    "# 윤보선 : //*[@id=\"prstNm2\"]\n",
    "# 박정희 : //*[@id=\"prstNm3\"]\n",
    "# 최규하 : //*[@id=\"prstNm4\"]\n",
    "# 전두환 : //*[@id=\"prstNm5\"]\n",
    "# 노태우 : //*[@id=\"prstNm6\"]\n",
    "# 김영삼 : //*[@id=\"prstNm7\"]\n",
    "# 김대중 : //*[@id=\"prstNm8\"]\n",
    "# 노무현 : //*[@id=\"prstNm9\"]\n",
    "# 이명박 : //*[@id=\"prstNm10\"]\n",
    "# 박근혜 : //*[@id=\"prstNm11\"]\n",
    "# 문재인 : //*[@id=\"prstNm12\"]"
   ]
  },
  {
   "cell_type": "code",
   "execution_count": 15,
   "metadata": {},
   "outputs": [],
   "source": [
    "# search speech data of specific president\n",
    "def search(president):\n",
    "    global driver\n",
    "    name_d = {\"전체\":0, \"이승만\":1, \"윤보선\":2, \"박정희\":3, \"최규하\":4, \"전두환\":5, \n",
    "              \"노태우\":6, \"김영삼\":7, \"김대중\":8, \"노무현\":9, \"이명박\":10, \"박근혜\":11, \n",
    "              \"문재인\":12}\n",
    "    presid_num = name_d[f\"{president}\"]\n",
    "\n",
    "    checkbox = driver.find_element(By.XPATH, f'//*[@id=\"prstNm{presid_num}\"]')\n",
    "    search = driver.find_element(By.XPATH, '//*[@id=\"frm\"]/fieldset[1]/div[2]/div[5]/button[2]')\n",
    "    checkbox.click()\n",
    "    time.sleep(1)\n",
    "    search.click()\n",
    "    time.sleep(1)\n",
    "    doc_button = driver.find_element(By.XPATH, '//*[@id=\"m-items2\"]/li[2]/a')\n",
    "    doc_button.click()"
   ]
  },
  {
   "cell_type": "code",
   "execution_count": 16,
   "metadata": {},
   "outputs": [],
   "source": [
    "# Helper function to click page button\n",
    "def click_section_button():\n",
    "    global driver\n",
    "    try:\n",
    "        page_button = WebDriverWait(driver, 10).until( # Waiting 10sec maximum\n",
    "            EC.element_to_be_clickable((By.XPATH, f'//*[@id=\"frm\"]/nav[2]/ul/li[13]/a')))\n",
    "        driver.execute_script(\"arguments[0].scrollIntoView();\", page_button) # scroll\n",
    "        time.sleep(1)\n",
    "        driver.execute_script(\"arguments[0].click();\", page_button)  # Click with JavaScript\n",
    "    except TimeoutException:\n",
    "        print(f\"Section button not found\")\n",
    "        raise  # if TimeoutException : throw Exception & quit"
   ]
  },
  {
   "cell_type": "code",
   "execution_count": 23,
   "metadata": {},
   "outputs": [],
   "source": [
    "# Helper function to click page button\n",
    "def click_page_button(page_num):\n",
    "    global driver\n",
    "    try:\n",
    "        if page_num == 1:\n",
    "            page_button = WebDriverWait(driver, 10).until( # Waiting 10sec maximum\n",
    "                EC.element_to_be_clickable((By.XPATH, f'//*[@id=\"frm\"]/nav[2]/ul/li[{page_num+2}]/strong')))\n",
    "        else:\n",
    "            page_button = WebDriverWait(driver, 10).until( # Waiting 10sec maximum\n",
    "                EC.element_to_be_clickable((By.XPATH, f'//*[@id=\"frm\"]/nav[2]/ul/li[{page_num+2}]/a')))\n",
    "        \n",
    "        driver.execute_script(\"arguments[0].scrollIntoView();\", page_button) # scroll\n",
    "        time.sleep(1)\n",
    "        driver.execute_script(\"arguments[0].click();\", page_button)  # Click with JavaScript\n",
    "    except TimeoutException:\n",
    "        print(f\"Page button {page_num} not found\")\n",
    "        raise  # if TimeoutException : throw Exception & quit"
   ]
  },
  {
   "cell_type": "code",
   "execution_count": 19,
   "metadata": {},
   "outputs": [
    {
     "name": "stdout",
     "output_type": "stream",
     "text": [
      "1. 제19대 대통령 취임식\n",
      "2. 비정규직 근로자와의 대화\n",
      "3. 미세먼지 바로알기 교실 현장 방문\n",
      "4. 국방부 순시\n",
      "5. 합동참모본부 순시\n",
      "6. 제37주년 5·18민주화운동 기념식\n",
      "7. 노무현 대통령 서거 8주기 추도식\n",
      "8. 수석·보좌관회의\n",
      "9. 수석·보좌관회의\n",
      "10. 제22회 바다의 날 기념식\n",
      "11. 수석·보좌관회의\n",
      "12. OECD 국제교통포럼(ITF) 사무총장 당선 축전\n",
      "13. 치매국가책임제 SNS 메시지\n",
      "14. 치매국가책임제 관련 현장 방문\n",
      "15. 제62회 현충일 추념식\n",
      "16. 용산소방서 방문 후 SNS 메시지\n",
      "17. 현장 소방대원들과의 대화\n",
      "18. 국가안전보장회의(NSC)\n",
      "19. 제30주년 6·10민주항쟁 기념식\n",
      "20. 2017년도 추가경정예산안 관련 국회 시정 연설\n"
     ]
    }
   ],
   "source": [
    "#1 첫페이지\n",
    "\n",
    "driver = webdriver.Chrome()\n",
    "driver.get('https://www.pa.go.kr/research/contents/speech/index.jsp')\n",
    "time.sleep(2)\n",
    "\n",
    "speech_data = []\n",
    "idx = 1\n",
    "president = \"문재인\"\n",
    "#str(input(\"President's name you want : \"))\n",
    "search(president)\n",
    "\n",
    "for title_num in range(1, 21):\n",
    "    try:\n",
    "        clik = WebDriverWait(driver, 10).until(\n",
    "            EC.presence_of_element_located((By.XPATH, f'//*[@id=\"M_More\"]/tr[{title_num}]/td[5]/a')))\n",
    "        driver.execute_script(\"arguments[0].scrollIntoView();\", clik) # scroll\n",
    "        time.sleep(1)\n",
    "        driver.execute_script(\"arguments[0].click();\", clik)  # Click with JavaScript\n",
    "\n",
    "        o_title = driver.find_element(By.XPATH, '//*[@id=\"content\"]/div/table/tbody/tr[1]/td')\n",
    "        o_type = driver.find_element(By.XPATH, '//*[@id=\"content\"]/div/table/tbody/tr[3]/td[1]')\n",
    "        o_date = driver.find_element(By.XPATH, '//*[@id=\"content\"]/div/table/tbody/tr[2]/td[1]')\n",
    "        o_speech = driver.find_element(By.XPATH, '//*[@id=\"content\"]/div/table/tbody/tr[4]/td')\n",
    "\n",
    "        title = o_title.text\n",
    "        type = o_type.text\n",
    "        date = o_date.text\n",
    "        speech = o_speech.text\n",
    "        speaker = president\n",
    "\n",
    "        d = {\"index\": idx, \"title\": title, \"type\": type, \"date\": date, \"speaker\": president, \"speech\": speech}\n",
    "        speech_data.append(d)\n",
    "        print(f\"{idx}. {title}\")\n",
    "        idx += 1\n",
    "\n",
    "        driver.back()\n",
    "    except Exception as e:\n",
    "        print(f\"ERROR OCCURED {str(e)}\")"
   ]
  },
  {
   "cell_type": "code",
   "execution_count": 24,
   "metadata": {},
   "outputs": [
    {
     "name": "stdout",
     "output_type": "stream",
     "text": [
      "1. 제19대 대통령 취임식\n",
      "2. 비정규직 근로자와의 대화\n",
      "3. 미세먼지 바로알기 교실 현장 방문\n",
      "4. 국방부 순시\n",
      "5. 합동참모본부 순시\n",
      "6. 제37주년 5·18민주화운동 기념식\n",
      "7. 노무현 대통령 서거 8주기 추도식\n",
      "8. 수석·보좌관회의\n",
      "9. 수석·보좌관회의\n",
      "10. 제22회 바다의 날 기념식\n",
      "11. 수석·보좌관회의\n",
      "12. OECD 국제교통포럼(ITF) 사무총장 당선 축전\n",
      "13. 치매국가책임제 SNS 메시지\n",
      "14. 치매국가책임제 관련 현장 방문\n",
      "15. 제62회 현충일 추념식\n",
      "16. 용산소방서 방문 후 SNS 메시지\n",
      "17. 현장 소방대원들과의 대화\n",
      "18. 국가안전보장회의(NSC)\n",
      "19. 제30주년 6·10민주항쟁 기념식\n",
      "20. 2017년도 추가경정예산안 관련 국회 시정 연설\n",
      "21. 한미연합사령부 순시\n",
      "22. 제19회 미주한인체전 축전\n",
      "23. 제1회 전국 시·도지사 간담회\n",
      "24. 6·15남북공동선언 17주년 기념식\n",
      "25. 수석·보좌관회의\n",
      "26. 아시아인프라투자은행(AIIB) 연차총회 개회식\n",
      "27. 원자력발전소 고리1호기 영구 정지 선포식\n",
      "28. 일자리위원회 위원 위촉장 수여식 및 제1차 회의\n",
      "29. 6·25 한국전쟁 제67주년 국군 및 유엔군 참전유공자 위로연\n",
      "30. 2017 무주 세계태권도선수권대회 개막식\n",
      "31. 제28회 국무회의\n",
      "32. (미국 방문) 장진호 전투 기념비 헌화\n",
      "33. (미국 방문) 한미 비즈니스 서밋\n",
      "34. 2017 글로벌 바이오 콘퍼런스 영상 축사\n",
      "35. 2017 사회적경제 주간 기념 사회적경제 박람회 개막식 영상 축사\n",
      "36. 한국신문협회 창립 60주년 영상 축사\n",
      "37. (미국 방문) CSIS 전문가 초청 만찬\n",
      "38. (미국 방문) 한미 정상 공동 언론 발표\n",
      "39. (미국 방문) 워싱턴 동포 간담회\n",
      "40. 방미 귀국 인사\n",
      "41. 제50회 산업안전보건의 날 기념식 영상 축사\n",
      "42. (독일 방문) 독일 동포 간담회\n",
      "43. (독일 방문) 독일 의료 지원단 접견\n",
      "44. (독일 방문) 한독 정상 공동 언론 발표\n",
      "45. (독일 방문) 쾨르버재단 초청 연설\n",
      "46. (독일 방문) G20 정상회의 기조연설\n",
      "47. (독일 방문) G20 정상회의 제1세션\n",
      "48. 2017 대한민국 과학기술 연차대회 영상 축사\n",
      "49. (독일 방문) G20 정상회의 제4세션\n",
      "50. 제30회 국무회의\n",
      "51. 제6회 정보보호의 날 기념식 서면 축사\n",
      "52. 수석·보좌관회의\n",
      "53. 국정과제 보고대회\n",
      "54. 일본군 위안부 고(故) 김군자 할머니 추모 SNS 메시지\n",
      "55. 제33회 국무회의\n",
      "56. 주요 기업인과의 대화\n",
      "57. 제1회 인터넷신문의 날 기념식 영상 축사\n",
      "58. 수석·보좌관회의\n",
      "59. 가습기 살균제 피해자 간담회\n",
      "60. 제35회 국무회의\n",
      "61. 건강보험 보장 강화 관련 현장 방문\n",
      "62. 건강보험정책 발표 SNS 메시지\n",
      "63. 수석·보좌관회의\n",
      "64. 제35회 재미한국학교협의회 학술대회 서면 축사\n",
      "65. 독립유공자 및 유족과의 오찬 간담회\n",
      "66. 수석·보좌관회의\n",
      "67. 제72주년 광복절 경축식\n",
      "68. 세월호 참사 피해자 가족 간담회\n",
      "69. 장준하 선생 서거 42주기 추모사\n",
      "70. 취임 100일 기자회견\n",
      "71. 김대중 대통령 서거 8주기 추도식\n",
      "72. 문재인정부 출범 100일 기념 국민인수위원회 대국민 보고대회\n",
      "73. 이순진 합참의장 이임식 SNS 메시지\n",
      "74. 제1회 을지국무회의 및 제37회 국무회의\n",
      "75. 2017 국제사이버범죄대응 심포지엄 영상 축사\n",
      "76. 동아시아·라틴아메리카 협력포럼(FEALAC) 외교장관회의 개회식\n",
      "77. 제54회 방송의 날 서면 축사\n",
      "78. 국가안전보장회의(NSC)\n",
      "79. 수석·보좌관회의\n"
     ]
    },
    {
     "ename": "KeyboardInterrupt",
     "evalue": "",
     "output_type": "error",
     "traceback": [
      "\u001b[1;31m---------------------------------------------------------------------------\u001b[0m",
      "\u001b[1;31mKeyboardInterrupt\u001b[0m                         Traceback (most recent call last)",
      "Cell \u001b[1;32mIn[24], line 26\u001b[0m\n\u001b[0;32m     24\u001b[0m o_title \u001b[38;5;241m=\u001b[39m driver\u001b[38;5;241m.\u001b[39mfind_element(By\u001b[38;5;241m.\u001b[39mXPATH, \u001b[38;5;124m'\u001b[39m\u001b[38;5;124m//*[@id=\u001b[39m\u001b[38;5;124m\"\u001b[39m\u001b[38;5;124mcontent\u001b[39m\u001b[38;5;124m\"\u001b[39m\u001b[38;5;124m]/div/table/tbody/tr[1]/td\u001b[39m\u001b[38;5;124m'\u001b[39m)\n\u001b[0;32m     25\u001b[0m o_type \u001b[38;5;241m=\u001b[39m driver\u001b[38;5;241m.\u001b[39mfind_element(By\u001b[38;5;241m.\u001b[39mXPATH, \u001b[38;5;124m'\u001b[39m\u001b[38;5;124m//*[@id=\u001b[39m\u001b[38;5;124m\"\u001b[39m\u001b[38;5;124mcontent\u001b[39m\u001b[38;5;124m\"\u001b[39m\u001b[38;5;124m]/div/table/tbody/tr[3]/td[1]\u001b[39m\u001b[38;5;124m'\u001b[39m)\n\u001b[1;32m---> 26\u001b[0m o_date \u001b[38;5;241m=\u001b[39m driver\u001b[38;5;241m.\u001b[39mfind_element(By\u001b[38;5;241m.\u001b[39mXPATH, \u001b[38;5;124m'\u001b[39m\u001b[38;5;124m//*[@id=\u001b[39m\u001b[38;5;124m\"\u001b[39m\u001b[38;5;124mcontent\u001b[39m\u001b[38;5;124m\"\u001b[39m\u001b[38;5;124m]/div/table/tbody/tr[2]/td[1]\u001b[39m\u001b[38;5;124m'\u001b[39m)\n\u001b[0;32m     27\u001b[0m o_speech \u001b[38;5;241m=\u001b[39m driver\u001b[38;5;241m.\u001b[39mfind_element(By\u001b[38;5;241m.\u001b[39mXPATH, \u001b[38;5;124m'\u001b[39m\u001b[38;5;124m//*[@id=\u001b[39m\u001b[38;5;124m\"\u001b[39m\u001b[38;5;124mcontent\u001b[39m\u001b[38;5;124m\"\u001b[39m\u001b[38;5;124m]/div/table/tbody/tr[4]/td\u001b[39m\u001b[38;5;124m'\u001b[39m)\n\u001b[0;32m     29\u001b[0m title \u001b[38;5;241m=\u001b[39m o_title\u001b[38;5;241m.\u001b[39mtext\n",
      "File \u001b[1;32mc:\\Users\\jenny\\anaconda3\\Lib\\site-packages\\selenium\\webdriver\\remote\\webdriver.py:748\u001b[0m, in \u001b[0;36mWebDriver.find_element\u001b[1;34m(self, by, value)\u001b[0m\n\u001b[0;32m    745\u001b[0m     by \u001b[38;5;241m=\u001b[39m By\u001b[38;5;241m.\u001b[39mCSS_SELECTOR\n\u001b[0;32m    746\u001b[0m     value \u001b[38;5;241m=\u001b[39m \u001b[38;5;124mf\u001b[39m\u001b[38;5;124m'\u001b[39m\u001b[38;5;124m[name=\u001b[39m\u001b[38;5;124m\"\u001b[39m\u001b[38;5;132;01m{\u001b[39;00mvalue\u001b[38;5;132;01m}\u001b[39;00m\u001b[38;5;124m\"\u001b[39m\u001b[38;5;124m]\u001b[39m\u001b[38;5;124m'\u001b[39m\n\u001b[1;32m--> 748\u001b[0m \u001b[38;5;28;01mreturn\u001b[39;00m \u001b[38;5;28mself\u001b[39m\u001b[38;5;241m.\u001b[39mexecute(Command\u001b[38;5;241m.\u001b[39mFIND_ELEMENT, {\u001b[38;5;124m\"\u001b[39m\u001b[38;5;124musing\u001b[39m\u001b[38;5;124m\"\u001b[39m: by, \u001b[38;5;124m\"\u001b[39m\u001b[38;5;124mvalue\u001b[39m\u001b[38;5;124m\"\u001b[39m: value})[\u001b[38;5;124m\"\u001b[39m\u001b[38;5;124mvalue\u001b[39m\u001b[38;5;124m\"\u001b[39m]\n",
      "File \u001b[1;32mc:\\Users\\jenny\\anaconda3\\Lib\\site-packages\\selenium\\webdriver\\remote\\webdriver.py:352\u001b[0m, in \u001b[0;36mWebDriver.execute\u001b[1;34m(self, driver_command, params)\u001b[0m\n\u001b[0;32m    349\u001b[0m     \u001b[38;5;28;01melif\u001b[39;00m \u001b[38;5;124m\"\u001b[39m\u001b[38;5;124msessionId\u001b[39m\u001b[38;5;124m\"\u001b[39m \u001b[38;5;129;01mnot\u001b[39;00m \u001b[38;5;129;01min\u001b[39;00m params:\n\u001b[0;32m    350\u001b[0m         params[\u001b[38;5;124m\"\u001b[39m\u001b[38;5;124msessionId\u001b[39m\u001b[38;5;124m\"\u001b[39m] \u001b[38;5;241m=\u001b[39m \u001b[38;5;28mself\u001b[39m\u001b[38;5;241m.\u001b[39msession_id\n\u001b[1;32m--> 352\u001b[0m response \u001b[38;5;241m=\u001b[39m \u001b[38;5;28mself\u001b[39m\u001b[38;5;241m.\u001b[39mcommand_executor\u001b[38;5;241m.\u001b[39mexecute(driver_command, params)\n\u001b[0;32m    353\u001b[0m \u001b[38;5;28;01mif\u001b[39;00m response:\n\u001b[0;32m    354\u001b[0m     \u001b[38;5;28mself\u001b[39m\u001b[38;5;241m.\u001b[39merror_handler\u001b[38;5;241m.\u001b[39mcheck_response(response)\n",
      "File \u001b[1;32mc:\\Users\\jenny\\anaconda3\\Lib\\site-packages\\selenium\\webdriver\\remote\\remote_connection.py:302\u001b[0m, in \u001b[0;36mRemoteConnection.execute\u001b[1;34m(self, command, params)\u001b[0m\n\u001b[0;32m    300\u001b[0m trimmed \u001b[38;5;241m=\u001b[39m \u001b[38;5;28mself\u001b[39m\u001b[38;5;241m.\u001b[39m_trim_large_entries(params)\n\u001b[0;32m    301\u001b[0m LOGGER\u001b[38;5;241m.\u001b[39mdebug(\u001b[38;5;124m\"\u001b[39m\u001b[38;5;132;01m%s\u001b[39;00m\u001b[38;5;124m \u001b[39m\u001b[38;5;132;01m%s\u001b[39;00m\u001b[38;5;124m \u001b[39m\u001b[38;5;132;01m%s\u001b[39;00m\u001b[38;5;124m\"\u001b[39m, command_info[\u001b[38;5;241m0\u001b[39m], url, \u001b[38;5;28mstr\u001b[39m(trimmed))\n\u001b[1;32m--> 302\u001b[0m \u001b[38;5;28;01mreturn\u001b[39;00m \u001b[38;5;28mself\u001b[39m\u001b[38;5;241m.\u001b[39m_request(command_info[\u001b[38;5;241m0\u001b[39m], url, body\u001b[38;5;241m=\u001b[39mdata)\n",
      "File \u001b[1;32mc:\\Users\\jenny\\anaconda3\\Lib\\site-packages\\selenium\\webdriver\\remote\\remote_connection.py:322\u001b[0m, in \u001b[0;36mRemoteConnection._request\u001b[1;34m(self, method, url, body)\u001b[0m\n\u001b[0;32m    319\u001b[0m     body \u001b[38;5;241m=\u001b[39m \u001b[38;5;28;01mNone\u001b[39;00m\n\u001b[0;32m    321\u001b[0m \u001b[38;5;28;01mif\u001b[39;00m \u001b[38;5;28mself\u001b[39m\u001b[38;5;241m.\u001b[39mkeep_alive:\n\u001b[1;32m--> 322\u001b[0m     response \u001b[38;5;241m=\u001b[39m \u001b[38;5;28mself\u001b[39m\u001b[38;5;241m.\u001b[39m_conn\u001b[38;5;241m.\u001b[39mrequest(method, url, body\u001b[38;5;241m=\u001b[39mbody, headers\u001b[38;5;241m=\u001b[39mheaders)\n\u001b[0;32m    323\u001b[0m     statuscode \u001b[38;5;241m=\u001b[39m response\u001b[38;5;241m.\u001b[39mstatus\n\u001b[0;32m    324\u001b[0m \u001b[38;5;28;01melse\u001b[39;00m:\n",
      "File \u001b[1;32mc:\\Users\\jenny\\anaconda3\\Lib\\site-packages\\urllib3\\_request_methods.py:118\u001b[0m, in \u001b[0;36mRequestMethods.request\u001b[1;34m(self, method, url, body, fields, headers, json, **urlopen_kw)\u001b[0m\n\u001b[0;32m    110\u001b[0m     \u001b[38;5;28;01mreturn\u001b[39;00m \u001b[38;5;28mself\u001b[39m\u001b[38;5;241m.\u001b[39mrequest_encode_url(\n\u001b[0;32m    111\u001b[0m         method,\n\u001b[0;32m    112\u001b[0m         url,\n\u001b[1;32m   (...)\u001b[0m\n\u001b[0;32m    115\u001b[0m         \u001b[38;5;241m*\u001b[39m\u001b[38;5;241m*\u001b[39murlopen_kw,\n\u001b[0;32m    116\u001b[0m     )\n\u001b[0;32m    117\u001b[0m \u001b[38;5;28;01melse\u001b[39;00m:\n\u001b[1;32m--> 118\u001b[0m     \u001b[38;5;28;01mreturn\u001b[39;00m \u001b[38;5;28mself\u001b[39m\u001b[38;5;241m.\u001b[39mrequest_encode_body(\n\u001b[0;32m    119\u001b[0m         method, url, fields\u001b[38;5;241m=\u001b[39mfields, headers\u001b[38;5;241m=\u001b[39mheaders, \u001b[38;5;241m*\u001b[39m\u001b[38;5;241m*\u001b[39murlopen_kw\n\u001b[0;32m    120\u001b[0m     )\n",
      "File \u001b[1;32mc:\\Users\\jenny\\anaconda3\\Lib\\site-packages\\urllib3\\_request_methods.py:217\u001b[0m, in \u001b[0;36mRequestMethods.request_encode_body\u001b[1;34m(self, method, url, fields, headers, encode_multipart, multipart_boundary, **urlopen_kw)\u001b[0m\n\u001b[0;32m    213\u001b[0m     extra_kw[\u001b[38;5;124m\"\u001b[39m\u001b[38;5;124mheaders\u001b[39m\u001b[38;5;124m\"\u001b[39m]\u001b[38;5;241m.\u001b[39msetdefault(\u001b[38;5;124m\"\u001b[39m\u001b[38;5;124mContent-Type\u001b[39m\u001b[38;5;124m\"\u001b[39m, content_type)\n\u001b[0;32m    215\u001b[0m extra_kw\u001b[38;5;241m.\u001b[39mupdate(urlopen_kw)\n\u001b[1;32m--> 217\u001b[0m \u001b[38;5;28;01mreturn\u001b[39;00m \u001b[38;5;28mself\u001b[39m\u001b[38;5;241m.\u001b[39murlopen(method, url, \u001b[38;5;241m*\u001b[39m\u001b[38;5;241m*\u001b[39mextra_kw)\n",
      "File \u001b[1;32mc:\\Users\\jenny\\anaconda3\\Lib\\site-packages\\urllib3\\poolmanager.py:443\u001b[0m, in \u001b[0;36mPoolManager.urlopen\u001b[1;34m(self, method, url, redirect, **kw)\u001b[0m\n\u001b[0;32m    441\u001b[0m     response \u001b[38;5;241m=\u001b[39m conn\u001b[38;5;241m.\u001b[39murlopen(method, url, \u001b[38;5;241m*\u001b[39m\u001b[38;5;241m*\u001b[39mkw)\n\u001b[0;32m    442\u001b[0m \u001b[38;5;28;01melse\u001b[39;00m:\n\u001b[1;32m--> 443\u001b[0m     response \u001b[38;5;241m=\u001b[39m conn\u001b[38;5;241m.\u001b[39murlopen(method, u\u001b[38;5;241m.\u001b[39mrequest_uri, \u001b[38;5;241m*\u001b[39m\u001b[38;5;241m*\u001b[39mkw)\n\u001b[0;32m    445\u001b[0m redirect_location \u001b[38;5;241m=\u001b[39m redirect \u001b[38;5;129;01mand\u001b[39;00m response\u001b[38;5;241m.\u001b[39mget_redirect_location()\n\u001b[0;32m    446\u001b[0m \u001b[38;5;28;01mif\u001b[39;00m \u001b[38;5;129;01mnot\u001b[39;00m redirect_location:\n",
      "File \u001b[1;32mc:\\Users\\jenny\\anaconda3\\Lib\\site-packages\\urllib3\\connectionpool.py:791\u001b[0m, in \u001b[0;36mHTTPConnectionPool.urlopen\u001b[1;34m(self, method, url, body, headers, retries, redirect, assert_same_host, timeout, pool_timeout, release_conn, chunked, body_pos, preload_content, decode_content, **response_kw)\u001b[0m\n\u001b[0;32m    788\u001b[0m response_conn \u001b[38;5;241m=\u001b[39m conn \u001b[38;5;28;01mif\u001b[39;00m \u001b[38;5;129;01mnot\u001b[39;00m release_conn \u001b[38;5;28;01melse\u001b[39;00m \u001b[38;5;28;01mNone\u001b[39;00m\n\u001b[0;32m    790\u001b[0m \u001b[38;5;66;03m# Make the request on the HTTPConnection object\u001b[39;00m\n\u001b[1;32m--> 791\u001b[0m response \u001b[38;5;241m=\u001b[39m \u001b[38;5;28mself\u001b[39m\u001b[38;5;241m.\u001b[39m_make_request(\n\u001b[0;32m    792\u001b[0m     conn,\n\u001b[0;32m    793\u001b[0m     method,\n\u001b[0;32m    794\u001b[0m     url,\n\u001b[0;32m    795\u001b[0m     timeout\u001b[38;5;241m=\u001b[39mtimeout_obj,\n\u001b[0;32m    796\u001b[0m     body\u001b[38;5;241m=\u001b[39mbody,\n\u001b[0;32m    797\u001b[0m     headers\u001b[38;5;241m=\u001b[39mheaders,\n\u001b[0;32m    798\u001b[0m     chunked\u001b[38;5;241m=\u001b[39mchunked,\n\u001b[0;32m    799\u001b[0m     retries\u001b[38;5;241m=\u001b[39mretries,\n\u001b[0;32m    800\u001b[0m     response_conn\u001b[38;5;241m=\u001b[39mresponse_conn,\n\u001b[0;32m    801\u001b[0m     preload_content\u001b[38;5;241m=\u001b[39mpreload_content,\n\u001b[0;32m    802\u001b[0m     decode_content\u001b[38;5;241m=\u001b[39mdecode_content,\n\u001b[0;32m    803\u001b[0m     \u001b[38;5;241m*\u001b[39m\u001b[38;5;241m*\u001b[39mresponse_kw,\n\u001b[0;32m    804\u001b[0m )\n\u001b[0;32m    806\u001b[0m \u001b[38;5;66;03m# Everything went great!\u001b[39;00m\n\u001b[0;32m    807\u001b[0m clean_exit \u001b[38;5;241m=\u001b[39m \u001b[38;5;28;01mTrue\u001b[39;00m\n",
      "File \u001b[1;32mc:\\Users\\jenny\\anaconda3\\Lib\\site-packages\\urllib3\\connectionpool.py:537\u001b[0m, in \u001b[0;36mHTTPConnectionPool._make_request\u001b[1;34m(self, conn, method, url, body, headers, retries, timeout, chunked, response_conn, preload_content, decode_content, enforce_content_length)\u001b[0m\n\u001b[0;32m    535\u001b[0m \u001b[38;5;66;03m# Receive the response from the server\u001b[39;00m\n\u001b[0;32m    536\u001b[0m \u001b[38;5;28;01mtry\u001b[39;00m:\n\u001b[1;32m--> 537\u001b[0m     response \u001b[38;5;241m=\u001b[39m conn\u001b[38;5;241m.\u001b[39mgetresponse()\n\u001b[0;32m    538\u001b[0m \u001b[38;5;28;01mexcept\u001b[39;00m (BaseSSLError, \u001b[38;5;167;01mOSError\u001b[39;00m) \u001b[38;5;28;01mas\u001b[39;00m e:\n\u001b[0;32m    539\u001b[0m     \u001b[38;5;28mself\u001b[39m\u001b[38;5;241m.\u001b[39m_raise_timeout(err\u001b[38;5;241m=\u001b[39me, url\u001b[38;5;241m=\u001b[39murl, timeout_value\u001b[38;5;241m=\u001b[39mread_timeout)\n",
      "File \u001b[1;32mc:\\Users\\jenny\\anaconda3\\Lib\\site-packages\\urllib3\\connection.py:461\u001b[0m, in \u001b[0;36mHTTPConnection.getresponse\u001b[1;34m(self)\u001b[0m\n\u001b[0;32m    458\u001b[0m \u001b[38;5;28;01mfrom\u001b[39;00m \u001b[38;5;21;01m.\u001b[39;00m\u001b[38;5;21;01mresponse\u001b[39;00m \u001b[38;5;28;01mimport\u001b[39;00m HTTPResponse\n\u001b[0;32m    460\u001b[0m \u001b[38;5;66;03m# Get the response from http.client.HTTPConnection\u001b[39;00m\n\u001b[1;32m--> 461\u001b[0m httplib_response \u001b[38;5;241m=\u001b[39m \u001b[38;5;28msuper\u001b[39m()\u001b[38;5;241m.\u001b[39mgetresponse()\n\u001b[0;32m    463\u001b[0m \u001b[38;5;28;01mtry\u001b[39;00m:\n\u001b[0;32m    464\u001b[0m     assert_header_parsing(httplib_response\u001b[38;5;241m.\u001b[39mmsg)\n",
      "File \u001b[1;32mc:\\Users\\jenny\\anaconda3\\Lib\\http\\client.py:1386\u001b[0m, in \u001b[0;36mHTTPConnection.getresponse\u001b[1;34m(self)\u001b[0m\n\u001b[0;32m   1384\u001b[0m \u001b[38;5;28;01mtry\u001b[39;00m:\n\u001b[0;32m   1385\u001b[0m     \u001b[38;5;28;01mtry\u001b[39;00m:\n\u001b[1;32m-> 1386\u001b[0m         response\u001b[38;5;241m.\u001b[39mbegin()\n\u001b[0;32m   1387\u001b[0m     \u001b[38;5;28;01mexcept\u001b[39;00m \u001b[38;5;167;01mConnectionError\u001b[39;00m:\n\u001b[0;32m   1388\u001b[0m         \u001b[38;5;28mself\u001b[39m\u001b[38;5;241m.\u001b[39mclose()\n",
      "File \u001b[1;32mc:\\Users\\jenny\\anaconda3\\Lib\\http\\client.py:325\u001b[0m, in \u001b[0;36mHTTPResponse.begin\u001b[1;34m(self)\u001b[0m\n\u001b[0;32m    323\u001b[0m \u001b[38;5;66;03m# read until we get a non-100 response\u001b[39;00m\n\u001b[0;32m    324\u001b[0m \u001b[38;5;28;01mwhile\u001b[39;00m \u001b[38;5;28;01mTrue\u001b[39;00m:\n\u001b[1;32m--> 325\u001b[0m     version, status, reason \u001b[38;5;241m=\u001b[39m \u001b[38;5;28mself\u001b[39m\u001b[38;5;241m.\u001b[39m_read_status()\n\u001b[0;32m    326\u001b[0m     \u001b[38;5;28;01mif\u001b[39;00m status \u001b[38;5;241m!=\u001b[39m CONTINUE:\n\u001b[0;32m    327\u001b[0m         \u001b[38;5;28;01mbreak\u001b[39;00m\n",
      "File \u001b[1;32mc:\\Users\\jenny\\anaconda3\\Lib\\http\\client.py:286\u001b[0m, in \u001b[0;36mHTTPResponse._read_status\u001b[1;34m(self)\u001b[0m\n\u001b[0;32m    285\u001b[0m \u001b[38;5;28;01mdef\u001b[39;00m \u001b[38;5;21m_read_status\u001b[39m(\u001b[38;5;28mself\u001b[39m):\n\u001b[1;32m--> 286\u001b[0m     line \u001b[38;5;241m=\u001b[39m \u001b[38;5;28mstr\u001b[39m(\u001b[38;5;28mself\u001b[39m\u001b[38;5;241m.\u001b[39mfp\u001b[38;5;241m.\u001b[39mreadline(_MAXLINE \u001b[38;5;241m+\u001b[39m \u001b[38;5;241m1\u001b[39m), \u001b[38;5;124m\"\u001b[39m\u001b[38;5;124miso-8859-1\u001b[39m\u001b[38;5;124m\"\u001b[39m)\n\u001b[0;32m    287\u001b[0m     \u001b[38;5;28;01mif\u001b[39;00m \u001b[38;5;28mlen\u001b[39m(line) \u001b[38;5;241m>\u001b[39m _MAXLINE:\n\u001b[0;32m    288\u001b[0m         \u001b[38;5;28;01mraise\u001b[39;00m LineTooLong(\u001b[38;5;124m\"\u001b[39m\u001b[38;5;124mstatus line\u001b[39m\u001b[38;5;124m\"\u001b[39m)\n",
      "File \u001b[1;32mc:\\Users\\jenny\\anaconda3\\Lib\\socket.py:706\u001b[0m, in \u001b[0;36mSocketIO.readinto\u001b[1;34m(self, b)\u001b[0m\n\u001b[0;32m    704\u001b[0m \u001b[38;5;28;01mwhile\u001b[39;00m \u001b[38;5;28;01mTrue\u001b[39;00m:\n\u001b[0;32m    705\u001b[0m     \u001b[38;5;28;01mtry\u001b[39;00m:\n\u001b[1;32m--> 706\u001b[0m         \u001b[38;5;28;01mreturn\u001b[39;00m \u001b[38;5;28mself\u001b[39m\u001b[38;5;241m.\u001b[39m_sock\u001b[38;5;241m.\u001b[39mrecv_into(b)\n\u001b[0;32m    707\u001b[0m     \u001b[38;5;28;01mexcept\u001b[39;00m timeout:\n\u001b[0;32m    708\u001b[0m         \u001b[38;5;28mself\u001b[39m\u001b[38;5;241m.\u001b[39m_timeout_occurred \u001b[38;5;241m=\u001b[39m \u001b[38;5;28;01mTrue\u001b[39;00m\n",
      "\u001b[1;31mKeyboardInterrupt\u001b[0m: "
     ]
    }
   ],
   "source": [
    "# 10개 페이지들\n",
    "\n",
    "driver = webdriver.Chrome()\n",
    "driver.get('https://www.pa.go.kr/research/contents/speech/index.jsp')\n",
    "time.sleep(2)\n",
    "\n",
    "speech_data = []\n",
    "idx = 1\n",
    "president = \"문재인\"\n",
    "#str(input(\"President's name you want : \"))\n",
    "search(president)\n",
    "\n",
    "for page_num in range(1, 11):\n",
    "    click_page_button(page_num)\n",
    "    try:\n",
    "        for title_num in range(1, 21):\n",
    "            try:\n",
    "                clik = WebDriverWait(driver, 10).until(\n",
    "                    EC.presence_of_element_located((By.XPATH, f'//*[@id=\"M_More\"]/tr[{title_num}]/td[5]/a')))\n",
    "                driver.execute_script(\"arguments[0].scrollIntoView();\", clik) # scroll\n",
    "                time.sleep(1)\n",
    "                driver.execute_script(\"arguments[0].click();\", clik)  # Click with JavaScript\n",
    "\n",
    "                o_title = driver.find_element(By.XPATH, '//*[@id=\"content\"]/div/table/tbody/tr[1]/td')\n",
    "                o_type = driver.find_element(By.XPATH, '//*[@id=\"content\"]/div/table/tbody/tr[3]/td[1]')\n",
    "                o_date = driver.find_element(By.XPATH, '//*[@id=\"content\"]/div/table/tbody/tr[2]/td[1]')\n",
    "                o_speech = driver.find_element(By.XPATH, '//*[@id=\"content\"]/div/table/tbody/tr[4]/td')\n",
    "\n",
    "                title = o_title.text\n",
    "                type = o_type.text\n",
    "                date = o_date.text\n",
    "                speech = o_speech.text\n",
    "                speaker = president\n",
    "\n",
    "                d = {\"index\": idx, \"title\": title, \"type\": type, \"date\": date, \"speaker\": president, \"speech\": speech}\n",
    "                speech_data.append(d)\n",
    "                print(f\"{idx}. {title}\")\n",
    "                idx += 1\n",
    "\n",
    "                driver.back()\n",
    "            except Exception as e:\n",
    "                print(f\"ERROR OCCURED {str(e)}\")\n",
    "    except Exception as e:\n",
    "        print(f\"ERROR OCCURED {str(e)}\")"
   ]
  },
  {
   "cell_type": "code",
   "execution_count": 12,
   "metadata": {},
   "outputs": [
    {
     "data": {
      "text/plain": [
       "[{'index': 1,\n",
       "  'title': '제19대 대통령 취임식',\n",
       "  'type': '취임사',\n",
       "  'date': '2017.05.10',\n",
       "  'speaker': '문재인',\n",
       "  'speech': '존경하고 사랑하는 국민 여러분!\\n감사합니다. 국민 여러분의 위대한 선택에 머리 숙여 깊이 감사드립니다.\\n\\n저는 오늘 대한민국 제19대 대통령으로서 새로운 대한민국을 향해 첫걸음을내딛습니다. 지금 제 두 어깨는 국민 여러분으로부터 부여받은 막중한 소명감으로 무겁습니다. 지금 제 가슴은 한 번도 경험하지 못한 나라를 만들겠다는 열정으로 뜨겁습니다. 그리고 지금 제 머리는 통합과 공존의 새로운 세상을 열어 갈청사진으로 가득 차 있습니다.\\n\\n우리가 만들어 가려는 새로운 대한민국은 숱한 좌절과 패배에도 불구하고 우리 선대들이 일관되게 추구했던 나라입니다. 또한 많은 희생과 헌신을 감내하며 우리 젊은이들이 그토록 이루고 싶어 했던 나라입니다. 그런 대한민국을 만들기위해 저는 역사와 국민 앞에 두렵지만 겸허히 대한민국 제19대 대통령으로서 책임과 소명을 다할 것을 천명합니다.\\n\\n함께 선거를 치른 후보들께 감사의 말씀과 함께 심심한 위로를 전합니다. 이번 선거에서는 승자도 패자도 없습니다. 우리는 새로운 대한민국을 함께 이끌어 가야 할 동반자입니다. 이제 치열했던 경쟁의 순간을 뒤로하고 함께 손을 맞잡고 미래로 전진해야 합니다.\\n\\n존경하는 국민 여러분!\\n지난 몇 달간 우리는 유례없는 정치적 격변기를 보냈습니다. 정치는 혼란했지만 국민은 위대했습니다. 현직 대통령의 탄핵과 구속 앞에서도 국민께서 대한민국의 앞길을 열어 주셨습니다. 우리 국민은 좌절하지 않고 오히려 전화위복의 계기로 삼아 마침내 오늘 새로운 세상을 열었습니다. 대한민국의 위대함은 국민의 위대함입니다. 그리고 이번 대통령 선거에서 우리 국민은 또 하나의 역사를 만들어 주셨습니다. 전국 각지에서 고른 지지로 새로운 대한민국을 선택해 주셨습니다. 오늘부터 저는 국민 모두의 대통령이 되겠습니다. 저를 지지하지 않았던 분도 진심으로 우리의 국민으로 섬기겠습니다. 저는 감히 약속드립니다. 2017년 5월 10일은 진정한 국민통합이 시작된 날로 역사에 기록될 것입니다.\\n\\n존경하고 사랑하는 국민 여러분!\\n힘들었던 지난 세월 국민은 이게 나라냐고 물었습니다. 대통령 문재인은 바로그 질문에서 시작하겠습니다.\\n오늘부터 나라를 나라답게 만드는 대통령이 되겠습니다. 구시대의 잘못된 관행과 과감히 결별하겠습니다. 대통령부터 새로워지겠습니다.\\n우선 권위적 대통령 문화를 청산하겠습니다. 준비를 마치는 대로 지금의 청와대에서 나와서 광화문 대통령 시대를 열겠습니다. 참모들과 머리와 어깨를 맞대고 토론하겠습니다. 국민과 수시로 소통하는 대통령이 되겠습니다. 주요 사안은대통령이 직접 언론에 브리핑하겠습니다. 퇴근길에는 시장에 들러 마주치는 시민 여러분과 격의 없는 대화를 나누겠습니다. 때로는 광화문광장에서 대토론회를 열겠습니다. 대통령의 제왕적 권력을 최대한 나누겠습니다.\\n권력기관은 정치로부터 완전히 독립시키겠습니다. 그 어떤 기관도 무소불위의권력을 행사할 수 없도록 견제 장치를 만들겠습니다. 낮은 자세로 일하겠습니다.\\n\\n국민과 눈높이를 맞추는 대통령이 되겠습니다.\\n안보위기도 서둘러 해결하겠습니다. 한반도 평화를 위해 동분서주하겠습니다.\\n필요하면 곧바로 워싱턴으로 날아가겠습니다. 베이징(北京)과 도쿄(東京)에도 가고, 여건이 조성되면 평양에도 가겠습니다. 한반도 평화 정착을 위해서라면 제가할 수 있는 모든 일을 다하겠습니다. 한미동맹은 더욱 강화하겠습니다. 한편으로사드 문제 해결을 위해 미국 및 중국과 진지하게 협상하겠습니다. 튼튼한 안보는막강한 국방력에서 비롯됩니다. 자주국방을 강화하기 위해 노력하겠습니다. 북핵문제를 해결할 토대도 마련하겠습니다. 동북아 평화 구조를 정착시킴으로써한반도 긴장완화의 전기를 마련하겠습니다.\\n분열과 갈등의 정치도 바꾸겠습니다. 보수와 진보의 갈등은 끝나야 합니다. 대통령이 나서서 직접 대화하겠습니다. 야당은 국정운영의 동반자입니다. 대화를정례화하고 수시로 만나겠습니다.\\n전국의 인재를 고르게 등용하겠습니다. 능력과 적재적소(適材適所)를 인사의 대원칙으로 삼겠습니다. 저에 대한 지지 여부와 상관없이 유능한 인재를 삼고초려(三顧草廬)해서 일을 맡기겠습니다.\\n나라 안팎으로 경제가 어렵습니다. 민생도 어렵습니다. 선거 과정에서 약속했듯이 무엇보다 먼저 일자리를 챙기겠습니다. 동시에 재벌 개혁에도 앞장서겠습니다.\\n문재인정부 시대에는 정경유착이라는 말이 완전히 사라질 것입니다. 지역과 계층과 세대 간 갈등을 해소하고, 비정규직 문제도 해결의 길을 모색하겠습니다. 차별 없는 세상을 만들겠습니다.\\n\\n거듭 말씀드립니다.\\n문재인과 더불어민주당 정부에서 기회는 평등할 것입니다.\\n과정은 공정할 것입니다.\\n결과는 정의로울 것입니다.\\n\\n존경하는 국민 여러분!\\n이번 대통령 선거는 전임 대통령의 탄핵으로 치렀습니다. ‘불행한 대통령’의역사가 계속되고 있습니다. 문재인정부를 시작으로 이런 불행한 역사는 종식되어야 합니다. 저는 대한민국 대통령의 새로운 모범이 되겠습니다. 국민과 역사가평가하는 성공한 대통령이 되기 위해 최선을 다하겠습니다. 그것으로 지지와 성원에 보답하겠습니다.\\n깨끗한 대통령이 되겠습니다. 빈손으로 취임하고 빈손으로 퇴임하는 대통령이되겠습니다. 훗날 고향으로 돌아가 평범한 시민이 되어 이웃과 정을 나누며 사는대통령이 되겠습니다. 국민 여러분의 자랑으로 남겠습니다.\\n약속을 지키는 솔직한 대통령이 되겠습니다. 선거 과정에서 제가 했던 약속들을 꼼꼼하게 챙겨서 지키겠습니다. 대통령부터 신뢰받는 정치를 솔선수범해야 진정한 정치 발전이 가능할 것입니다. 불가능한 일을 하겠다고 큰소리치지 않겠습니다. 잘못한 일은 잘못했다고 말씀드리겠습니다. 거짓으로 불리한 여론을 덮지 않겠습니다.\\n공정한 대통령이 되겠습니다. 특권과 반칙이 없는 세상을 만들겠습니다. 상식대로 해야 이득을 보는 세상을 만들겠습니다.\\n이웃의 아픔을 외면하지 않겠습니다. 소외된 국민이 없도록 노심초사하는 마음으로 항상 살피겠습니다. 국민의 서러운 눈물을 닦아 드리는 대통령이 되겠습니다.\\n소통하는 대통령이 되겠습니다. 낮은 사람, 겸손한 권력이 되어 가장 강력한 나라를 만들겠습니다. 군림하고 통치하는 대통령이 아니라 대화하고 소통하는 대통령이 되겠습니다.\\n‘광화문 시대 대통령’이 되어 국민과 가까운 곳에 있겠습니다. 따뜻한 대통령,친구 같은 대통령으로 남겠습니다.\\n\\n사랑하고 존경하는 국민 여러분!\\n2017년 5월 10일 오늘 대한민국이 다시 시작합니다. 나라를 나라답게 만드는역사가 시작됩니다. 이 길에 함께해 주십시오. 저의 신명을 바쳐 일하겠습니다.\\n감사합니다.'}]"
      ]
     },
     "execution_count": 12,
     "metadata": {},
     "output_type": "execute_result"
    }
   ],
   "source": [
    "speech_data"
   ]
  },
  {
   "cell_type": "code",
   "execution_count": null,
   "metadata": {},
   "outputs": [],
   "source": []
  }
 ],
 "metadata": {
  "kernelspec": {
   "display_name": "base",
   "language": "python",
   "name": "python3"
  },
  "language_info": {
   "codemirror_mode": {
    "name": "ipython",
    "version": 3
   },
   "file_extension": ".py",
   "mimetype": "text/x-python",
   "name": "python",
   "nbconvert_exporter": "python",
   "pygments_lexer": "ipython3",
   "version": "3.11.7"
  }
 },
 "nbformat": 4,
 "nbformat_minor": 2
}
