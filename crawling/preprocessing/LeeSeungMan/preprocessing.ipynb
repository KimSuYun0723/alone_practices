{
 "cells": [
  {
   "cell_type": "markdown",
   "metadata": {},
   "source": [
    "# 1. Settings"
   ]
  },
  {
   "cell_type": "code",
   "execution_count": 4,
   "metadata": {},
   "outputs": [
    {
     "ename": "ImportError",
     "evalue": "cannot import name 'deprecated' from 'hanja' (unknown location)",
     "output_type": "error",
     "traceback": [
      "\u001b[1;31m---------------------------------------------------------------------------\u001b[0m",
      "\u001b[1;31mImportError\u001b[0m                               Traceback (most recent call last)",
      "Cell \u001b[1;32mIn[4], line 6\u001b[0m\n\u001b[0;32m      3\u001b[0m \u001b[38;5;28;01mimport\u001b[39;00m \u001b[38;5;21;01mpandas\u001b[39;00m \u001b[38;5;28;01mas\u001b[39;00m \u001b[38;5;21;01mpd\u001b[39;00m\n\u001b[0;32m      5\u001b[0m \u001b[38;5;28;01mimport\u001b[39;00m \u001b[38;5;21;01mhanja\u001b[39;00m\n\u001b[1;32m----> 6\u001b[0m \u001b[38;5;28;01mfrom\u001b[39;00m \u001b[38;5;21;01mhanja\u001b[39;00m\u001b[38;5;21;01m.\u001b[39;00m\u001b[38;5;21;01mhanja\u001b[39;00m \u001b[38;5;28;01mimport\u001b[39;00m hangul\n",
      "File \u001b[1;32mc:\\_SY\\alone_practice\\crawling\\preprocessing\\LeeSeungMan\\hanja\\hanja\\hangul.py:3\u001b[0m\n\u001b[0;32m      1\u001b[0m \u001b[38;5;66;03m# -*- coding: utf8 -*-\u001b[39;00m\n\u001b[1;32m----> 3\u001b[0m \u001b[38;5;28;01mfrom\u001b[39;00m \u001b[38;5;21;01mhanja\u001b[39;00m \u001b[38;5;28;01mimport\u001b[39;00m deprecated\n\u001b[0;32m      6\u001b[0m \u001b[38;5;28;01mdef\u001b[39;00m \u001b[38;5;21mseparate\u001b[39m(ch):\n\u001b[0;32m      7\u001b[0m \u001b[38;5;250m    \u001b[39m\u001b[38;5;124;03m\"\"\"한글 자모 분리. 주어진 한글 한 글자의 초성, 중성 초성을 반환함.\"\"\"\u001b[39;00m\n",
      "\u001b[1;31mImportError\u001b[0m: cannot import name 'deprecated' from 'hanja' (unknown location)"
     ]
    }
   ],
   "source": [
    "from bs4 import BeautifulSoup\n",
    "import numpy as np\n",
    "import pandas as pd\n",
    "\n",
    "import hanja\n",
    "from hanja.hanja import hangul"
   ]
  },
  {
   "cell_type": "markdown",
   "metadata": {},
   "source": [
    "# 2. Use hanja"
   ]
  },
  {
   "cell_type": "markdown",
   "metadata": {},
   "source": [
    "### 1) Installation\n",
    "-----\n",
    "\n",
    "```python\n",
    "   pip install hanja\n",
    "```"
   ]
  },
  {
   "cell_type": "markdown",
   "metadata": {},
   "source": [
    "### 2) Usage\n",
    "------\n",
    "필요한 모듈 import 하기\n",
    "```python\n",
    "   >>> import hanja\n",
    "   >>> from hanja import hangul\n",
    "```\n",
    "\n",
    "한글 초성, 중성, 종성 분리\n",
    "```python\n",
    "   >>> hangul.separate('가')\n",
    "   (0, 0, 0)\n",
    "   >>> hangul.separate('까')\n",
    "   (1, 0, 0)\n",
    "   # 튜플(tuple)의 마지막 원소가 0이면 종성이 없는 글자라고 판단할 수 있다.\n",
    "```\n",
    "'ㅎ'은 19번째 자음, 'ㅏ'는 첫번째 모음, 'ㄴ'은 다섯번째 자음이라는 것을 알 수 있다.\n",
    "```python\n",
    "   >>> hangul.separate('한')\n",
    "   (18, 0, 4)\n",
    "```\n",
    "\n",
    "초성, 중성, 종성을 조합하여 한 글자를 만듦\n",
    "```python\n",
    "   >>> hangul.build(0, 0, 0)\n",
    "   '가'\n",
    "```\n",
    "\n",
    "주어진 글자가 한글인지의 여부를 판별\n",
    "```python\n",
    "   >>> hangul.is_hangul('가')\n",
    "   True\n",
    "   >>> hangul.is_hangul('a')\n",
    "   False\n",
    "```\n",
    "\n",
    "한글로 된 부분과 한자로 된 부분을 분리\n",
    "```python\n",
    "   >>> '|'.join(hanja.split_hanja('大韓民國은 民主共和國이다.'))\n",
    "   大韓民國|은 |民主共和國|이다.\n",
    "\n",
    "   >>> [x for x in hanja.split_hanja('大韓民國은 民主共和國이다.')]\n",
    "   ['大韓民國', '은 ', '民主共和國', '이다.']\n",
    "# 리스트가 아닌 제네레이터(generator)를 반환한다.\n",
    "```\n",
    "\n",
    "주어진 글자가 한자인지의 여부를 판별\n",
    "```python\n",
    "   >>> hanja.is_hanja('韓')\n",
    "   True\n",
    "\n",
    "   >>> hanja.is_hanja('한')\n",
    "   False\n",
    "```\n",
    "\n",
    "문장 변환\n",
    "- 치환 모드 변환:\n",
    "```python\n",
    "   >>> hanja.translate('大韓民國은 民主共和國이다.', 'substitution')\n",
    "   '대한민국은 민주공화국이다.'\n",
    "```\n",
    "- 혼용 모드 변환 (text):\n",
    "```python\n",
    "   >>> hanja.translate('大韓民國은 民主共和國이다.', 'combination-text')\n",
    "   '大韓民國(대한민국)은 民主共和國(민주공화국)이다.'\n",
    "```\n",
    "- 혼용 모드 변환 version 2 (text):\n",
    "```python\n",
    "   >>> hanja.translate('大韓民國은 民主共和國이다.', 'combination-text-reversed')\n",
    "   '대한민국(大韓民國)은 민주공화국(民主共和國)이다.'\n",
    "```\n",
    "- 혼용 모드 변환 (HTML):\n",
    "```python\n",
    "   >>> hanja.translate(u'大韓民國은 民主共和國이다.', 'combination-html')\n",
    "   '<span class=\"hanja\">大韓民國</span><span class=\"hangul\">(대한민국)</span>은 <span class=\"hanja\">民主共和國</span><span class=\"hangul\">(민주공화국)</span>이다.'\n",
    "```"
   ]
  },
  {
   "cell_type": "markdown",
   "metadata": {},
   "source": []
  }
 ],
 "metadata": {
  "kernelspec": {
   "display_name": "base",
   "language": "python",
   "name": "python3"
  },
  "language_info": {
   "codemirror_mode": {
    "name": "ipython",
    "version": 3
   },
   "file_extension": ".py",
   "mimetype": "text/x-python",
   "name": "python",
   "nbconvert_exporter": "python",
   "pygments_lexer": "ipython3",
   "version": "3.11.7"
  }
 },
 "nbformat": 4,
 "nbformat_minor": 2
}
